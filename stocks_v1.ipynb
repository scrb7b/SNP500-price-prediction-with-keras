{
 "cells": [
  {
   "cell_type": "code",
   "execution_count": 1,
   "id": "64b0a24a-50b5-4ec6-ad63-a45f872d4726",
   "metadata": {},
   "outputs": [
    {
     "name": "stdout",
     "output_type": "stream",
     "text": [
      "WARNING:tensorflow:From C:\\ProgramData\\anaconda3\\Lib\\site-packages\\keras\\src\\losses.py:2976: The name tf.losses.sparse_softmax_cross_entropy is deprecated. Please use tf.compat.v1.losses.sparse_softmax_cross_entropy instead.\n",
      "\n"
     ]
    }
   ],
   "source": [
    "from tensorflow import keras\n",
    "from keras import layers, models, utils, preprocessing\n",
    "import numpy as np\n",
    "import matplotlib.pyplot as plt\n",
    "import pandas as pd"
   ]
  },
  {
   "cell_type": "code",
   "execution_count": 49,
   "id": "58fc1c86-685f-4aee-a43c-1d47e357cef9",
   "metadata": {},
   "outputs": [],
   "source": [
    "data = pd.read_csv('1Datasets/snp500_history.csv')"
   ]
  },
  {
   "cell_type": "code",
   "execution_count": 50,
   "id": "e143dcd2-6ab6-493b-b55d-f50f8607a13a",
   "metadata": {},
   "outputs": [],
   "source": [
    "train_set = data[['Open']]"
   ]
  },
  {
   "cell_type": "code",
   "execution_count": 51,
   "id": "01ef2a85-9a95-411f-a512-dd42da7419ec",
   "metadata": {},
   "outputs": [],
   "source": [
    "from sklearn.preprocessing import MinMaxScaler\n",
    "sc = MinMaxScaler(feature_range = (0, 1))\n",
    "train_set = sc.fit_transform(train_set)"
   ]
  },
  {
   "cell_type": "code",
   "execution_count": 52,
   "id": "40dd6bde-b309-49eb-8dbc-b3e69c85dda2",
   "metadata": {},
   "outputs": [],
   "source": [
    "X_train = []\n",
    "y_train = []\n",
    "for i in range(60, len(train_set)):\n",
    "    X_train.append(train_set[i-60:i, 0])\n",
    "    y_train.append(train_set[i, 0])\n",
    "X_train, y_train = np.array(X_train), np.array(y_train)"
   ]
  },
  {
   "cell_type": "code",
   "execution_count": 53,
   "id": "968242c5-92c9-4ccb-a336-34331b704fc1",
   "metadata": {},
   "outputs": [],
   "source": [
    "X_train = np.reshape(X_train, (X_train.shape[0], X_train.shape[1], 1))"
   ]
  },
  {
   "cell_type": "code",
   "execution_count": 54,
   "id": "75d59caf-76f5-48e5-9a4a-698861b86e5e",
   "metadata": {},
   "outputs": [],
   "source": [
    "from sklearn.model_selection import train_test_split\n",
    "\n",
    "X_train, X_test, y_train, y_test = train_test_split(X_train, y_train, test_size=0.01, shuffle=False)"
   ]
  },
  {
   "cell_type": "code",
   "execution_count": 8,
   "id": "64331bd3-507f-47e2-97fc-0440a32c90d5",
   "metadata": {},
   "outputs": [
    {
     "name": "stdout",
     "output_type": "stream",
     "text": [
      "WARNING:tensorflow:From C:\\ProgramData\\anaconda3\\Lib\\site-packages\\keras\\src\\layers\\rnn\\lstm.py:148: The name tf.executing_eagerly_outside_functions is deprecated. Please use tf.compat.v1.executing_eagerly_outside_functions instead.\n",
      "\n"
     ]
    }
   ],
   "source": [
    "model = Sequential([\n",
    "    layers.LSTM(units = 50, return_sequences = True, input_shape = (X_train.shape[1], 1)),\n",
    "    layers.Dropout(0.2),\n",
    "    layers.LSTM(units = 50, return_sequences = True),\n",
    "    layers.Dropout(0.2),\n",
    "    layers.LSTM(units = 50, return_sequences = True),\n",
    "    layers.Dropout(0.2),\n",
    "    layers.LSTM(units = 50),\n",
    "    layers.Dropout(0.2),\n",
    "    layers.Dense(units = 1)\n",
    "])\n"
   ]
  },
  {
   "cell_type": "code",
   "execution_count": 9,
   "id": "16080d6b-2207-4391-85c1-5ebcc5a9e6ec",
   "metadata": {},
   "outputs": [
    {
     "name": "stdout",
     "output_type": "stream",
     "text": [
      "WARNING:tensorflow:From C:\\ProgramData\\anaconda3\\Lib\\site-packages\\keras\\src\\optimizers\\__init__.py:309: The name tf.train.Optimizer is deprecated. Please use tf.compat.v1.train.Optimizer instead.\n",
      "\n"
     ]
    }
   ],
   "source": [
    "model.compile(optimizer = 'adam',\n",
    "                  loss = 'mean_squared_error')\n"
   ]
  },
  {
   "cell_type": "code",
   "execution_count": 10,
   "id": "de539e3f-7548-4837-8f55-160978d6f9d7",
   "metadata": {},
   "outputs": [
    {
     "name": "stdout",
     "output_type": "stream",
     "text": [
      "Epoch 1/100\n",
      "WARNING:tensorflow:From C:\\ProgramData\\anaconda3\\Lib\\site-packages\\keras\\src\\utils\\tf_utils.py:492: The name tf.ragged.RaggedTensorValue is deprecated. Please use tf.compat.v1.ragged.RaggedTensorValue instead.\n",
      "\n",
      "598/598 [==============================] - 38s 49ms/step - loss: 0.0010\n",
      "Epoch 2/100\n",
      "598/598 [==============================] - 29s 48ms/step - loss: 5.0698e-04\n",
      "Epoch 3/100\n",
      "598/598 [==============================] - 29s 49ms/step - loss: 4.9632e-04\n",
      "Epoch 4/100\n",
      "598/598 [==============================] - 29s 48ms/step - loss: 4.4577e-04\n",
      "Epoch 5/100\n",
      "598/598 [==============================] - 29s 49ms/step - loss: 4.2599e-04\n",
      "Epoch 6/100\n",
      "598/598 [==============================] - 29s 49ms/step - loss: 4.1980e-04\n",
      "Epoch 7/100\n",
      "598/598 [==============================] - 29s 49ms/step - loss: 4.5251e-04\n",
      "Epoch 8/100\n",
      "598/598 [==============================] - 29s 49ms/step - loss: 3.7739e-04\n",
      "Epoch 9/100\n",
      "598/598 [==============================] - 30s 50ms/step - loss: 3.7206e-04\n",
      "Epoch 10/100\n",
      "598/598 [==============================] - 30s 50ms/step - loss: 4.0907e-04\n",
      "Epoch 11/100\n",
      "598/598 [==============================] - 30s 50ms/step - loss: 3.6446e-04\n",
      "Epoch 12/100\n",
      "598/598 [==============================] - 30s 50ms/step - loss: 3.7920e-04\n",
      "Epoch 13/100\n",
      "598/598 [==============================] - 30s 49ms/step - loss: 3.6306e-04\n",
      "Epoch 14/100\n",
      "598/598 [==============================] - 30s 50ms/step - loss: 3.7686e-04\n",
      "Epoch 15/100\n",
      "598/598 [==============================] - 30s 50ms/step - loss: 3.7637e-04\n",
      "Epoch 16/100\n",
      "598/598 [==============================] - 29s 49ms/step - loss: 3.6815e-04\n",
      "Epoch 17/100\n",
      "598/598 [==============================] - 29s 49ms/step - loss: 3.7034e-04\n",
      "Epoch 18/100\n",
      "598/598 [==============================] - 29s 49ms/step - loss: 3.5968e-04\n",
      "Epoch 19/100\n",
      "598/598 [==============================] - 29s 49ms/step - loss: 3.3408e-04\n",
      "Epoch 20/100\n",
      "598/598 [==============================] - 29s 49ms/step - loss: 3.7023e-04\n",
      "Epoch 21/100\n",
      "598/598 [==============================] - 29s 49ms/step - loss: 3.4605e-04\n",
      "Epoch 22/100\n",
      "598/598 [==============================] - 29s 49ms/step - loss: 3.4011e-04\n",
      "Epoch 23/100\n",
      "598/598 [==============================] - 29s 49ms/step - loss: 3.3592e-04\n",
      "Epoch 24/100\n",
      "598/598 [==============================] - 29s 49ms/step - loss: 3.4912e-04\n",
      "Epoch 25/100\n",
      "598/598 [==============================] - 29s 49ms/step - loss: 3.3435e-04\n",
      "Epoch 26/100\n",
      "598/598 [==============================] - 32s 53ms/step - loss: 3.6136e-04\n",
      "Epoch 27/100\n",
      "598/598 [==============================] - 36s 60ms/step - loss: 3.3006e-04\n",
      "Epoch 28/100\n",
      "598/598 [==============================] - 34s 57ms/step - loss: 3.5218e-04\n",
      "Epoch 29/100\n",
      "598/598 [==============================] - 34s 58ms/step - loss: 3.3505e-04\n",
      "Epoch 30/100\n",
      "598/598 [==============================] - 36s 60ms/step - loss: 3.2353e-04\n",
      "Epoch 31/100\n",
      "598/598 [==============================] - 31s 52ms/step - loss: 3.0696e-04\n",
      "Epoch 32/100\n",
      "598/598 [==============================] - 29s 49ms/step - loss: 3.2444e-04\n",
      "Epoch 33/100\n",
      "598/598 [==============================] - 31s 52ms/step - loss: 3.1281e-04\n",
      "Epoch 34/100\n",
      "598/598 [==============================] - 34s 57ms/step - loss: 3.0888e-04\n",
      "Epoch 35/100\n",
      "598/598 [==============================] - 33s 56ms/step - loss: 3.4559e-04\n",
      "Epoch 36/100\n",
      "598/598 [==============================] - 37s 61ms/step - loss: 3.1241e-04\n",
      "Epoch 37/100\n",
      "598/598 [==============================] - 37s 62ms/step - loss: 3.2420e-04\n",
      "Epoch 38/100\n",
      "598/598 [==============================] - 33s 56ms/step - loss: 3.2133e-04\n",
      "Epoch 39/100\n",
      "598/598 [==============================] - 37s 62ms/step - loss: 3.0638e-04\n",
      "Epoch 40/100\n",
      "598/598 [==============================] - 37s 62ms/step - loss: 3.2196e-04\n",
      "Epoch 41/100\n",
      "598/598 [==============================] - 37s 61ms/step - loss: 3.1821e-04\n",
      "Epoch 42/100\n",
      "598/598 [==============================] - 38s 64ms/step - loss: 3.0032e-04\n",
      "Epoch 43/100\n",
      "598/598 [==============================] - 37s 62ms/step - loss: 2.9791e-04\n",
      "Epoch 44/100\n",
      "598/598 [==============================] - 36s 60ms/step - loss: 3.0103e-04\n",
      "Epoch 45/100\n",
      "598/598 [==============================] - 36s 61ms/step - loss: 2.9641e-04\n",
      "Epoch 46/100\n",
      "598/598 [==============================] - 37s 62ms/step - loss: 3.0820e-04\n",
      "Epoch 47/100\n",
      "598/598 [==============================] - 34s 57ms/step - loss: 3.0697e-04\n",
      "Epoch 48/100\n",
      "598/598 [==============================] - 36s 60ms/step - loss: 2.9965e-04\n",
      "Epoch 49/100\n",
      "598/598 [==============================] - 32s 53ms/step - loss: 3.1520e-04\n",
      "Epoch 50/100\n",
      "598/598 [==============================] - 34s 57ms/step - loss: 2.9155e-04\n",
      "Epoch 51/100\n",
      "598/598 [==============================] - 32s 54ms/step - loss: 3.0173e-04\n",
      "Epoch 52/100\n",
      "598/598 [==============================] - 35s 58ms/step - loss: 3.0234e-04\n",
      "Epoch 53/100\n",
      "598/598 [==============================] - 36s 60ms/step - loss: 3.1616e-04\n",
      "Epoch 54/100\n",
      "598/598 [==============================] - 34s 56ms/step - loss: 2.8452e-04\n",
      "Epoch 55/100\n",
      "598/598 [==============================] - 37s 61ms/step - loss: 2.7475e-04\n",
      "Epoch 56/100\n",
      "598/598 [==============================] - 37s 62ms/step - loss: 3.0755e-04\n",
      "Epoch 57/100\n",
      "598/598 [==============================] - 38s 64ms/step - loss: 2.9634e-04\n",
      "Epoch 58/100\n",
      "598/598 [==============================] - 36s 60ms/step - loss: 2.8914e-04\n",
      "Epoch 59/100\n",
      "598/598 [==============================] - 37s 62ms/step - loss: 2.7882e-04\n",
      "Epoch 60/100\n",
      "598/598 [==============================] - 36s 60ms/step - loss: 2.9526e-04\n",
      "Epoch 61/100\n",
      "598/598 [==============================] - 39s 65ms/step - loss: 3.0141e-04\n",
      "Epoch 62/100\n",
      "598/598 [==============================] - 37s 62ms/step - loss: 2.9722e-04\n",
      "Epoch 63/100\n",
      "598/598 [==============================] - 34s 57ms/step - loss: 2.7875e-04\n",
      "Epoch 64/100\n",
      "598/598 [==============================] - 34s 57ms/step - loss: 2.8494e-04\n",
      "Epoch 65/100\n",
      "598/598 [==============================] - 34s 57ms/step - loss: 2.7929e-04\n",
      "Epoch 66/100\n",
      "598/598 [==============================] - 33s 55ms/step - loss: 2.8882e-04\n",
      "Epoch 67/100\n",
      "598/598 [==============================] - 33s 55ms/step - loss: 2.7987e-04\n",
      "Epoch 68/100\n",
      "598/598 [==============================] - 36s 60ms/step - loss: 3.0035e-04\n",
      "Epoch 69/100\n",
      "598/598 [==============================] - 36s 61ms/step - loss: 2.9915e-04\n",
      "Epoch 70/100\n",
      "598/598 [==============================] - 32s 53ms/step - loss: 2.8214e-04\n",
      "Epoch 71/100\n",
      "598/598 [==============================] - 35s 58ms/step - loss: 3.0083e-04\n",
      "Epoch 72/100\n",
      "598/598 [==============================] - 35s 59ms/step - loss: 2.8712e-04\n",
      "Epoch 73/100\n",
      "598/598 [==============================] - 35s 58ms/step - loss: 2.6422e-04\n",
      "Epoch 74/100\n",
      "598/598 [==============================] - 37s 62ms/step - loss: 2.9937e-04\n",
      "Epoch 75/100\n",
      "598/598 [==============================] - 37s 62ms/step - loss: 2.8632e-04\n",
      "Epoch 76/100\n",
      "598/598 [==============================] - 38s 63ms/step - loss: 2.9917e-04\n",
      "Epoch 77/100\n",
      "598/598 [==============================] - 36s 61ms/step - loss: 2.8854e-04\n",
      "Epoch 78/100\n",
      "598/598 [==============================] - 34s 57ms/step - loss: 2.7443e-04\n",
      "Epoch 79/100\n",
      "598/598 [==============================] - 37s 62ms/step - loss: 2.9806e-04\n",
      "Epoch 80/100\n",
      "598/598 [==============================] - 31s 51ms/step - loss: 2.7697e-04\n",
      "Epoch 81/100\n",
      "598/598 [==============================] - 33s 54ms/step - loss: 2.7411e-04\n",
      "Epoch 82/100\n",
      "598/598 [==============================] - 35s 59ms/step - loss: 2.8404e-04\n",
      "Epoch 83/100\n",
      "598/598 [==============================] - 34s 56ms/step - loss: 2.8771e-04\n",
      "Epoch 84/100\n",
      "598/598 [==============================] - 33s 55ms/step - loss: 2.7230e-04\n",
      "Epoch 85/100\n",
      "598/598 [==============================] - 33s 55ms/step - loss: 2.7343e-04\n",
      "Epoch 86/100\n",
      "598/598 [==============================] - 33s 55ms/step - loss: 2.8249e-04\n",
      "Epoch 87/100\n",
      "598/598 [==============================] - 33s 55ms/step - loss: 2.8898e-04\n",
      "Epoch 88/100\n",
      "598/598 [==============================] - 33s 55ms/step - loss: 2.7866e-04\n",
      "Epoch 89/100\n",
      "598/598 [==============================] - 32s 54ms/step - loss: 2.8327e-04\n",
      "Epoch 90/100\n",
      "598/598 [==============================] - 33s 56ms/step - loss: 2.8922e-04\n",
      "Epoch 91/100\n",
      "598/598 [==============================] - 33s 56ms/step - loss: 2.7241e-04\n",
      "Epoch 92/100\n",
      "598/598 [==============================] - 34s 57ms/step - loss: 2.7535e-04\n",
      "Epoch 93/100\n",
      "598/598 [==============================] - 33s 55ms/step - loss: 2.8076e-04\n",
      "Epoch 94/100\n",
      "598/598 [==============================] - 33s 56ms/step - loss: 2.8131e-04\n",
      "Epoch 95/100\n",
      "598/598 [==============================] - 31s 53ms/step - loss: 2.9118e-04\n",
      "Epoch 96/100\n",
      "598/598 [==============================] - 32s 53ms/step - loss: 2.7670e-04\n",
      "Epoch 97/100\n",
      "598/598 [==============================] - 32s 54ms/step - loss: 2.7500e-04\n",
      "Epoch 98/100\n",
      "598/598 [==============================] - 33s 55ms/step - loss: 2.7915e-04\n",
      "Epoch 99/100\n",
      "598/598 [==============================] - 34s 57ms/step - loss: 2.7954e-04\n",
      "Epoch 100/100\n",
      "598/598 [==============================] - 32s 54ms/step - loss: 2.6741e-04\n"
     ]
    },
    {
     "data": {
      "text/plain": [
       "<keras.src.callbacks.History at 0x1e7f14dd0d0>"
      ]
     },
     "execution_count": 10,
     "metadata": {},
     "output_type": "execute_result"
    }
   ],
   "source": [
    "model.fit(X_train, y_train, epochs = 100, batch_size = 32)\n"
   ]
  },
  {
   "cell_type": "code",
   "execution_count": 19,
   "id": "2a2d6f6f-5d77-4842-b6ca-a419285f3584",
   "metadata": {},
   "outputs": [],
   "source": [
    "model.save('snpLSTM.keras')"
   ]
  },
  {
   "cell_type": "code",
   "execution_count": 55,
   "id": "b86f90c1-528a-456b-90cb-ae64a264fed9",
   "metadata": {},
   "outputs": [
    {
     "name": "stdout",
     "output_type": "stream",
     "text": [
      "8/8 [==============================] - 0s 18ms/step\n"
     ]
    }
   ],
   "source": [
    "pre = model.predict(X_test)"
   ]
  },
  {
   "cell_type": "code",
   "execution_count": 56,
   "id": "4c34a1f9-c9f2-4499-8a9e-41ef24129c0a",
   "metadata": {},
   "outputs": [],
   "source": [
    "pre = sc.inverse_transform(pre)"
   ]
  },
  {
   "cell_type": "code",
   "execution_count": 57,
   "id": "a40a270b-4f16-4c12-ae45-7806f2b7448f",
   "metadata": {},
   "outputs": [],
   "source": [
    "y_test = y_test.reshape(-1, 1)\n",
    "y_test = sc.inverse_transform(y_test)"
   ]
  },
  {
   "cell_type": "code",
   "execution_count": 58,
   "id": "0e5fe966-6497-4d30-9f22-861b249122df",
   "metadata": {},
   "outputs": [
    {
     "data": {
      "image/png": "[encoded data removed]",
      "text/plain": [
       "<Figure size 640x480 with 1 Axes>"
      ]
     },
     "metadata": {},
     "output_type": "display_data"
    }
   ],
   "source": [
    "plt.plot(y_test, color = 'red', label = 'real price')\n",
    "plt.plot(pre, color = 'blue', label = 'predict')\n",
    "plt.xlabel('time')\n",
    "plt.ylabel('price')\n",
    "plt.legend()\n",
    "plt.show()"
   ]
  },
  {
   "cell_type": "code",
   "execution_count": null,
   "id": "2b118e98-1378-45d3-b92c-e6248deeef47",
   "metadata": {},
   "outputs": [],
   "source": []
  }
 ],
 "metadata": {
  "kernelspec": {
   "display_name": "Python 3 (ipykernel)",
   "language": "python",
   "name": "python3"
  },
  "language_info": {
   "codemirror_mode": {
    "name": "ipython",
    "version": 3
   },
   "file_extension": ".py",
   "mimetype": "text/x-python",
   "name": "python",
   "nbconvert_exporter": "python",
   "pygments_lexer": "ipython3",
   "version": "3.11.7"
  }
 },
 "nbformat": 4,
 "nbformat_minor": 5
}
