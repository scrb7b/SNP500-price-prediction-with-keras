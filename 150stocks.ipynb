{
 "cells": [
  {
   "cell_type": "code",
   "execution_count": 2,
   "id": "64b0a24a-50b5-4ec6-ad63-a45f872d4726",
   "metadata": {},
   "outputs": [],
   "source": [
    "from tensorflow import keras\n",
    "from keras import layers, models, utils, preprocessing\n",
    "import numpy as np\n",
    "import matplotlib.pyplot as plt\n",
    "import pandas as pd"
   ]
  },
  {
   "cell_type": "code",
   "execution_count": 3,
   "id": "58fc1c86-685f-4aee-a43c-1d47e357cef9",
   "metadata": {},
   "outputs": [],
   "source": [
    "data = pd.read_csv('1Datasets/snp500_history.csv')\n",
    "train_set = data[['Open']]"
   ]
  },
  {
   "cell_type": "code",
   "execution_count": 4,
   "id": "01ef2a85-9a95-411f-a512-dd42da7419ec",
   "metadata": {},
   "outputs": [],
   "source": [
    "from sklearn.preprocessing import MinMaxScaler\n",
    "\n",
    "sc = MinMaxScaler(feature_range = (0, 1))\n",
    "train_set = sc.fit_transform(train_set)"
   ]
  },
  {
   "cell_type": "code",
   "execution_count": 5,
   "id": "40dd6bde-b309-49eb-8dbc-b3e69c85dda2",
   "metadata": {},
   "outputs": [],
   "source": [
    "X_train = []\n",
    "y_train = []\n",
    "predlen = 150\n",
    "for i in range(predlen, len(train_set)):\n",
    "    X_train.append(train_set[i-predlen:i, 0])\n",
    "    y_train.append(train_set[i, 0])\n",
    "X_train, y_train = np.array(X_train), np.array(y_train)"
   ]
  },
  {
   "cell_type": "code",
   "execution_count": 6,
   "id": "968242c5-92c9-4ccb-a336-34331b704fc1",
   "metadata": {},
   "outputs": [],
   "source": [
    "X_train = np.reshape(X_train, (X_train.shape[0], X_train.shape[1], 1))"
   ]
  },
  {
   "cell_type": "code",
   "execution_count": 7,
   "id": "75d59caf-76f5-48e5-9a4a-698861b86e5e",
   "metadata": {},
   "outputs": [],
   "source": [
    "from sklearn.model_selection import train_test_split\n",
    "\n",
    "X_train, X_test, y_train, y_test = train_test_split(X_train, y_train, test_size=0.01, shuffle=False)"
   ]
  },
  {
   "cell_type": "code",
   "execution_count": 7,
   "id": "64331bd3-507f-47e2-97fc-0440a32c90d5",
   "metadata": {},
   "outputs": [
    {
     "name": "stdout",
     "output_type": "stream",
     "text": [
      "WARNING:tensorflow:From C:\\ProgramData\\anaconda3\\Lib\\site-packages\\keras\\src\\layers\\rnn\\lstm.py:148: The name tf.executing_eagerly_outside_functions is deprecated. Please use tf.compat.v1.executing_eagerly_outside_functions instead.\n",
      "\n"
     ]
    }
   ],
   "source": [
    "model = models.Sequential([\n",
    "    layers.LSTM(units = 50, return_sequences = True, input_shape = (X_train.shape[1], 1)),\n",
    "    layers.Dropout(0.2),\n",
    "    layers.LSTM(units = 50, return_sequences = True),\n",
    "    layers.Dropout(0.2),\n",
    "    layers.LSTM(units = 50, return_sequences = True),\n",
    "    layers.Dropout(0.2),\n",
    "    layers.LSTM(units = 50),\n",
    "    layers.Dropout(0.2),\n",
    "    layers.Dense(units = 1)\n",
    "])\n"
   ]
  },
  {
   "cell_type": "code",
   "execution_count": 8,
   "id": "16080d6b-2207-4391-85c1-5ebcc5a9e6ec",
   "metadata": {},
   "outputs": [
    {
     "name": "stdout",
     "output_type": "stream",
     "text": [
      "WARNING:tensorflow:From C:\\ProgramData\\anaconda3\\Lib\\site-packages\\keras\\src\\optimizers\\__init__.py:309: The name tf.train.Optimizer is deprecated. Please use tf.compat.v1.train.Optimizer instead.\n",
      "\n"
     ]
    }
   ],
   "source": [
    "model.compile(optimizer = 'adam',\n",
    "                  loss = 'mean_squared_error')"
   ]
  },
  {
   "cell_type": "code",
   "execution_count": 9,
   "id": "de539e3f-7548-4837-8f55-160978d6f9d7",
   "metadata": {},
   "outputs": [
    {
     "name": "stdout",
     "output_type": "stream",
     "text": [
      "Epoch 1/100\n",
      "WARNING:tensorflow:From C:\\ProgramData\\anaconda3\\Lib\\site-packages\\keras\\src\\utils\\tf_utils.py:492: The name tf.ragged.RaggedTensorValue is deprecated. Please use tf.compat.v1.ragged.RaggedTensorValue instead.\n",
      "\n",
      "737/737 [==============================] - 95s 118ms/step - loss: 9.6146e-04\n",
      "Epoch 2/100\n",
      "737/737 [==============================] - 86s 117ms/step - loss: 4.9395e-04\n",
      "Epoch 3/100\n",
      "737/737 [==============================] - 88s 119ms/step - loss: 4.1237e-04\n",
      "Epoch 4/100\n",
      "737/737 [==============================] - 86s 117ms/step - loss: 3.9650e-04\n",
      "Epoch 5/100\n",
      "737/737 [==============================] - 86s 117ms/step - loss: 3.5266e-04\n",
      "Epoch 6/100\n",
      "737/737 [==============================] - 87s 118ms/step - loss: 4.2090e-04\n",
      "Epoch 7/100\n",
      "737/737 [==============================] - 107s 146ms/step - loss: 3.5505e-04\n",
      "Epoch 8/100\n",
      "737/737 [==============================] - 102s 138ms/step - loss: 3.7055e-04\n",
      "Epoch 9/100\n",
      "737/737 [==============================] - 100s 136ms/step - loss: 3.3139e-04\n",
      "Epoch 10/100\n",
      "737/737 [==============================] - 101s 137ms/step - loss: 3.4417e-04\n",
      "Epoch 11/100\n",
      "737/737 [==============================] - 94s 128ms/step - loss: 3.6685e-04\n",
      "Epoch 12/100\n",
      "737/737 [==============================] - 96s 130ms/step - loss: 3.1794e-04\n",
      "Epoch 13/100\n",
      "737/737 [==============================] - 95s 129ms/step - loss: 3.2371e-04\n",
      "Epoch 14/100\n",
      "737/737 [==============================] - 93s 126ms/step - loss: 3.2226e-04\n",
      "Epoch 15/100\n",
      "737/737 [==============================] - 95s 128ms/step - loss: 3.1863e-04\n",
      "Epoch 16/100\n",
      "737/737 [==============================] - 96s 130ms/step - loss: 3.0468e-04\n",
      "Epoch 17/100\n",
      "737/737 [==============================] - 107s 146ms/step - loss: 3.2579e-04\n",
      "Epoch 18/100\n",
      "737/737 [==============================] - 100s 136ms/step - loss: 3.1484e-04\n",
      "Epoch 19/100\n",
      "737/737 [==============================] - 122s 165ms/step - loss: 3.1052e-04\n",
      "Epoch 20/100\n",
      "737/737 [==============================] - 112s 152ms/step - loss: 3.1070e-04\n",
      "Epoch 21/100\n",
      "737/737 [==============================] - 106s 144ms/step - loss: 3.0874e-04\n",
      "Epoch 22/100\n",
      "737/737 [==============================] - 113s 154ms/step - loss: 2.9216e-04\n",
      "Epoch 23/100\n",
      "737/737 [==============================] - 108s 146ms/step - loss: 2.9786e-04\n",
      "Epoch 24/100\n",
      "737/737 [==============================] - 97s 131ms/step - loss: 3.0628e-04\n",
      "Epoch 25/100\n",
      "737/737 [==============================] - 98s 133ms/step - loss: 3.0700e-04\n",
      "Epoch 26/100\n",
      "737/737 [==============================] - 112s 152ms/step - loss: 2.9391e-04\n",
      "Epoch 27/100\n",
      "737/737 [==============================] - 111s 151ms/step - loss: 3.1241e-04\n",
      "Epoch 28/100\n",
      "737/737 [==============================] - 101s 137ms/step - loss: 2.9464e-04\n",
      "Epoch 29/100\n",
      "737/737 [==============================] - 104s 141ms/step - loss: 2.9034e-04\n",
      "Epoch 30/100\n",
      "737/737 [==============================] - 111s 150ms/step - loss: 2.6754e-04\n",
      "Epoch 31/100\n",
      "737/737 [==============================] - 111s 150ms/step - loss: 2.9800e-04\n",
      "Epoch 32/100\n",
      "737/737 [==============================] - 110s 149ms/step - loss: 2.7399e-04\n",
      "Epoch 33/100\n",
      "737/737 [==============================] - 95s 128ms/step - loss: 3.0355e-04\n",
      "Epoch 34/100\n",
      "737/737 [==============================] - 92s 124ms/step - loss: 2.9781e-04\n",
      "Epoch 35/100\n",
      "737/737 [==============================] - 92s 125ms/step - loss: 2.9216e-04\n",
      "Epoch 36/100\n",
      "737/737 [==============================] - 94s 128ms/step - loss: 2.8357e-04\n",
      "Epoch 37/100\n",
      "737/737 [==============================] - 91s 124ms/step - loss: 2.7496e-04\n",
      "Epoch 38/100\n",
      "737/737 [==============================] - 91s 123ms/step - loss: 2.9100e-04\n",
      "Epoch 39/100\n",
      "737/737 [==============================] - 89s 121ms/step - loss: 2.8218e-04\n",
      "Epoch 40/100\n",
      "737/737 [==============================] - 92s 124ms/step - loss: 2.7359e-04\n",
      "Epoch 41/100\n",
      "737/737 [==============================] - 92s 125ms/step - loss: 2.7601e-04\n",
      "Epoch 42/100\n",
      "737/737 [==============================] - 92s 125ms/step - loss: 2.7960e-04\n",
      "Epoch 43/100\n",
      "737/737 [==============================] - 92s 124ms/step - loss: 2.7228e-04\n",
      "Epoch 44/100\n",
      "737/737 [==============================] - 92s 125ms/step - loss: 2.6695e-04\n",
      "Epoch 45/100\n",
      "737/737 [==============================] - 92s 125ms/step - loss: 2.6997e-04\n",
      "Epoch 46/100\n",
      "737/737 [==============================] - 92s 125ms/step - loss: 2.6954e-04\n",
      "Epoch 47/100\n",
      "737/737 [==============================] - 92s 125ms/step - loss: 2.5689e-04\n",
      "Epoch 48/100\n",
      "737/737 [==============================] - 92s 125ms/step - loss: 2.5880e-04\n",
      "Epoch 49/100\n",
      "737/737 [==============================] - 93s 126ms/step - loss: 2.6890e-04\n",
      "Epoch 50/100\n",
      "737/737 [==============================] - 92s 125ms/step - loss: 2.6292e-04\n",
      "Epoch 51/100\n",
      "737/737 [==============================] - 92s 125ms/step - loss: 2.6707e-04\n",
      "Epoch 52/100\n",
      "737/737 [==============================] - 92s 125ms/step - loss: 2.6691e-04\n",
      "Epoch 53/100\n",
      "737/737 [==============================] - 92s 125ms/step - loss: 2.7991e-04\n",
      "Epoch 54/100\n",
      "737/737 [==============================] - 92s 125ms/step - loss: 2.5402e-04\n",
      "Epoch 55/100\n",
      "737/737 [==============================] - 92s 125ms/step - loss: 2.6140e-04\n",
      "Epoch 56/100\n",
      "737/737 [==============================] - 92s 125ms/step - loss: 2.5566e-04\n",
      "Epoch 57/100\n",
      "737/737 [==============================] - 92s 125ms/step - loss: 2.7399e-04\n",
      "Epoch 58/100\n",
      "737/737 [==============================] - 92s 125ms/step - loss: 2.4717e-04\n",
      "Epoch 59/100\n",
      "737/737 [==============================] - 92s 125ms/step - loss: 2.6551e-04\n",
      "Epoch 60/100\n",
      "737/737 [==============================] - 92s 125ms/step - loss: 2.4242e-04\n",
      "Epoch 61/100\n",
      "737/737 [==============================] - 97s 131ms/step - loss: 2.7387e-04\n",
      "Epoch 62/100\n",
      "737/737 [==============================] - 93s 127ms/step - loss: 2.5355e-04\n",
      "Epoch 63/100\n",
      "737/737 [==============================] - 94s 127ms/step - loss: 2.4953e-04\n",
      "Epoch 64/100\n",
      "737/737 [==============================] - 96s 130ms/step - loss: 2.6479e-04\n",
      "Epoch 65/100\n",
      "737/737 [==============================] - 96s 131ms/step - loss: 2.5119e-04\n",
      "Epoch 66/100\n",
      "737/737 [==============================] - 97s 131ms/step - loss: 2.5196e-04\n",
      "Epoch 67/100\n",
      "737/737 [==============================] - 96s 131ms/step - loss: 2.4834e-04\n",
      "Epoch 68/100\n",
      "737/737 [==============================] - 96s 130ms/step - loss: 2.6406e-04\n",
      "Epoch 69/100\n",
      "737/737 [==============================] - 96s 130ms/step - loss: 2.4672e-04\n",
      "Epoch 70/100\n",
      "737/737 [==============================] - 96s 130ms/step - loss: 2.4752e-04\n",
      "Epoch 71/100\n",
      "737/737 [==============================] - 96s 130ms/step - loss: 2.4014e-04\n",
      "Epoch 72/100\n",
      "737/737 [==============================] - 96s 130ms/step - loss: 2.5105e-04\n",
      "Epoch 73/100\n",
      "737/737 [==============================] - 96s 130ms/step - loss: 2.5071e-04\n",
      "Epoch 74/100\n",
      "737/737 [==============================] - 96s 130ms/step - loss: 2.5428e-04\n",
      "Epoch 75/100\n",
      "737/737 [==============================] - 96s 130ms/step - loss: 2.4082e-04\n",
      "Epoch 76/100\n",
      "737/737 [==============================] - 96s 130ms/step - loss: 2.3755e-04\n",
      "Epoch 77/100\n",
      "737/737 [==============================] - 96s 130ms/step - loss: 2.4750e-04\n",
      "Epoch 78/100\n",
      "737/737 [==============================] - 96s 131ms/step - loss: 2.4894e-04\n",
      "Epoch 79/100\n",
      "737/737 [==============================] - 96s 131ms/step - loss: 2.6277e-04\n",
      "Epoch 80/100\n",
      "737/737 [==============================] - 96s 131ms/step - loss: 2.4490e-04\n",
      "Epoch 81/100\n",
      "631/737 [========================>.....] - ETA: 14s - loss: 2.4527e-04"
     ]
    },
    {
     "ename": "KeyboardInterrupt",
     "evalue": "",
     "output_type": "error",
     "traceback": [
      "\u001b[1;31m---------------------------------------------------------------------------\u001b[0m",
      "\u001b[1;31mKeyboardInterrupt\u001b[0m                         Traceback (most recent call last)",
      "Cell \u001b[1;32mIn[9], line 1\u001b[0m\n\u001b[1;32m----> 1\u001b[0m model\u001b[38;5;241m.\u001b[39mfit(X_train, y_train, epochs \u001b[38;5;241m=\u001b[39m \u001b[38;5;241m100\u001b[39m, batch_size \u001b[38;5;241m=\u001b[39m \u001b[38;5;241m32\u001b[39m)\n",
      "File \u001b[1;32mC:\\ProgramData\\anaconda3\\Lib\\site-packages\\keras\\src\\utils\\traceback_utils.py:65\u001b[0m, in \u001b[0;36mfilter_traceback.<locals>.error_handler\u001b[1;34m(*args, **kwargs)\u001b[0m\n\u001b[0;32m     63\u001b[0m filtered_tb \u001b[38;5;241m=\u001b[39m \u001b[38;5;28;01mNone\u001b[39;00m\n\u001b[0;32m     64\u001b[0m \u001b[38;5;28;01mtry\u001b[39;00m:\n\u001b[1;32m---> 65\u001b[0m     \u001b[38;5;28;01mreturn\u001b[39;00m fn(\u001b[38;5;241m*\u001b[39margs, \u001b[38;5;241m*\u001b[39m\u001b[38;5;241m*\u001b[39mkwargs)\n\u001b[0;32m     66\u001b[0m \u001b[38;5;28;01mexcept\u001b[39;00m \u001b[38;5;167;01mException\u001b[39;00m \u001b[38;5;28;01mas\u001b[39;00m e:\n\u001b[0;32m     67\u001b[0m     filtered_tb \u001b[38;5;241m=\u001b[39m _process_traceback_frames(e\u001b[38;5;241m.\u001b[39m__traceback__)\n",
      "File \u001b[1;32mC:\\ProgramData\\anaconda3\\Lib\\site-packages\\keras\\src\\engine\\training.py:1807\u001b[0m, in \u001b[0;36mModel.fit\u001b[1;34m(self, x, y, batch_size, epochs, verbose, callbacks, validation_split, validation_data, shuffle, class_weight, sample_weight, initial_epoch, steps_per_epoch, validation_steps, validation_batch_size, validation_freq, max_queue_size, workers, use_multiprocessing)\u001b[0m\n\u001b[0;32m   1799\u001b[0m \u001b[38;5;28;01mwith\u001b[39;00m tf\u001b[38;5;241m.\u001b[39mprofiler\u001b[38;5;241m.\u001b[39mexperimental\u001b[38;5;241m.\u001b[39mTrace(\n\u001b[0;32m   1800\u001b[0m     \u001b[38;5;124m\"\u001b[39m\u001b[38;5;124mtrain\u001b[39m\u001b[38;5;124m\"\u001b[39m,\n\u001b[0;32m   1801\u001b[0m     epoch_num\u001b[38;5;241m=\u001b[39mepoch,\n\u001b[1;32m   (...)\u001b[0m\n\u001b[0;32m   1804\u001b[0m     _r\u001b[38;5;241m=\u001b[39m\u001b[38;5;241m1\u001b[39m,\n\u001b[0;32m   1805\u001b[0m ):\n\u001b[0;32m   1806\u001b[0m     callbacks\u001b[38;5;241m.\u001b[39mon_train_batch_begin(step)\n\u001b[1;32m-> 1807\u001b[0m     tmp_logs \u001b[38;5;241m=\u001b[39m \u001b[38;5;28mself\u001b[39m\u001b[38;5;241m.\u001b[39mtrain_function(iterator)\n\u001b[0;32m   1808\u001b[0m     \u001b[38;5;28;01mif\u001b[39;00m data_handler\u001b[38;5;241m.\u001b[39mshould_sync:\n\u001b[0;32m   1809\u001b[0m         context\u001b[38;5;241m.\u001b[39masync_wait()\n",
      "File \u001b[1;32mC:\\ProgramData\\anaconda3\\Lib\\site-packages\\tensorflow\\python\\util\\traceback_utils.py:150\u001b[0m, in \u001b[0;36mfilter_traceback.<locals>.error_handler\u001b[1;34m(*args, **kwargs)\u001b[0m\n\u001b[0;32m    148\u001b[0m filtered_tb \u001b[38;5;241m=\u001b[39m \u001b[38;5;28;01mNone\u001b[39;00m\n\u001b[0;32m    149\u001b[0m \u001b[38;5;28;01mtry\u001b[39;00m:\n\u001b[1;32m--> 150\u001b[0m   \u001b[38;5;28;01mreturn\u001b[39;00m fn(\u001b[38;5;241m*\u001b[39margs, \u001b[38;5;241m*\u001b[39m\u001b[38;5;241m*\u001b[39mkwargs)\n\u001b[0;32m    151\u001b[0m \u001b[38;5;28;01mexcept\u001b[39;00m \u001b[38;5;167;01mException\u001b[39;00m \u001b[38;5;28;01mas\u001b[39;00m e:\n\u001b[0;32m    152\u001b[0m   filtered_tb \u001b[38;5;241m=\u001b[39m _process_traceback_frames(e\u001b[38;5;241m.\u001b[39m__traceback__)\n",
      "File \u001b[1;32mC:\\ProgramData\\anaconda3\\Lib\\site-packages\\tensorflow\\python\\eager\\polymorphic_function\\polymorphic_function.py:832\u001b[0m, in \u001b[0;36mFunction.__call__\u001b[1;34m(self, *args, **kwds)\u001b[0m\n\u001b[0;32m    829\u001b[0m compiler \u001b[38;5;241m=\u001b[39m \u001b[38;5;124m\"\u001b[39m\u001b[38;5;124mxla\u001b[39m\u001b[38;5;124m\"\u001b[39m \u001b[38;5;28;01mif\u001b[39;00m \u001b[38;5;28mself\u001b[39m\u001b[38;5;241m.\u001b[39m_jit_compile \u001b[38;5;28;01melse\u001b[39;00m \u001b[38;5;124m\"\u001b[39m\u001b[38;5;124mnonXla\u001b[39m\u001b[38;5;124m\"\u001b[39m\n\u001b[0;32m    831\u001b[0m \u001b[38;5;28;01mwith\u001b[39;00m OptionalXlaContext(\u001b[38;5;28mself\u001b[39m\u001b[38;5;241m.\u001b[39m_jit_compile):\n\u001b[1;32m--> 832\u001b[0m   result \u001b[38;5;241m=\u001b[39m \u001b[38;5;28mself\u001b[39m\u001b[38;5;241m.\u001b[39m_call(\u001b[38;5;241m*\u001b[39margs, \u001b[38;5;241m*\u001b[39m\u001b[38;5;241m*\u001b[39mkwds)\n\u001b[0;32m    834\u001b[0m new_tracing_count \u001b[38;5;241m=\u001b[39m \u001b[38;5;28mself\u001b[39m\u001b[38;5;241m.\u001b[39mexperimental_get_tracing_count()\n\u001b[0;32m    835\u001b[0m without_tracing \u001b[38;5;241m=\u001b[39m (tracing_count \u001b[38;5;241m==\u001b[39m new_tracing_count)\n",
      "File \u001b[1;32mC:\\ProgramData\\anaconda3\\Lib\\site-packages\\tensorflow\\python\\eager\\polymorphic_function\\polymorphic_function.py:868\u001b[0m, in \u001b[0;36mFunction._call\u001b[1;34m(self, *args, **kwds)\u001b[0m\n\u001b[0;32m    865\u001b[0m   \u001b[38;5;28mself\u001b[39m\u001b[38;5;241m.\u001b[39m_lock\u001b[38;5;241m.\u001b[39mrelease()\n\u001b[0;32m    866\u001b[0m   \u001b[38;5;66;03m# In this case we have created variables on the first call, so we run the\u001b[39;00m\n\u001b[0;32m    867\u001b[0m   \u001b[38;5;66;03m# defunned version which is guaranteed to never create variables.\u001b[39;00m\n\u001b[1;32m--> 868\u001b[0m   \u001b[38;5;28;01mreturn\u001b[39;00m tracing_compilation\u001b[38;5;241m.\u001b[39mcall_function(\n\u001b[0;32m    869\u001b[0m       args, kwds, \u001b[38;5;28mself\u001b[39m\u001b[38;5;241m.\u001b[39m_no_variable_creation_config\n\u001b[0;32m    870\u001b[0m   )\n\u001b[0;32m    871\u001b[0m \u001b[38;5;28;01melif\u001b[39;00m \u001b[38;5;28mself\u001b[39m\u001b[38;5;241m.\u001b[39m_variable_creation_config \u001b[38;5;129;01mis\u001b[39;00m \u001b[38;5;129;01mnot\u001b[39;00m \u001b[38;5;28;01mNone\u001b[39;00m:\n\u001b[0;32m    872\u001b[0m   \u001b[38;5;66;03m# Release the lock early so that multiple threads can perform the call\u001b[39;00m\n\u001b[0;32m    873\u001b[0m   \u001b[38;5;66;03m# in parallel.\u001b[39;00m\n\u001b[0;32m    874\u001b[0m   \u001b[38;5;28mself\u001b[39m\u001b[38;5;241m.\u001b[39m_lock\u001b[38;5;241m.\u001b[39mrelease()\n",
      "File \u001b[1;32mC:\\ProgramData\\anaconda3\\Lib\\site-packages\\tensorflow\\python\\eager\\polymorphic_function\\tracing_compilation.py:139\u001b[0m, in \u001b[0;36mcall_function\u001b[1;34m(args, kwargs, tracing_options)\u001b[0m\n\u001b[0;32m    137\u001b[0m bound_args \u001b[38;5;241m=\u001b[39m function\u001b[38;5;241m.\u001b[39mfunction_type\u001b[38;5;241m.\u001b[39mbind(\u001b[38;5;241m*\u001b[39margs, \u001b[38;5;241m*\u001b[39m\u001b[38;5;241m*\u001b[39mkwargs)\n\u001b[0;32m    138\u001b[0m flat_inputs \u001b[38;5;241m=\u001b[39m function\u001b[38;5;241m.\u001b[39mfunction_type\u001b[38;5;241m.\u001b[39munpack_inputs(bound_args)\n\u001b[1;32m--> 139\u001b[0m \u001b[38;5;28;01mreturn\u001b[39;00m function\u001b[38;5;241m.\u001b[39m_call_flat(  \u001b[38;5;66;03m# pylint: disable=protected-access\u001b[39;00m\n\u001b[0;32m    140\u001b[0m     flat_inputs, captured_inputs\u001b[38;5;241m=\u001b[39mfunction\u001b[38;5;241m.\u001b[39mcaptured_inputs\n\u001b[0;32m    141\u001b[0m )\n",
      "File \u001b[1;32mC:\\ProgramData\\anaconda3\\Lib\\site-packages\\tensorflow\\python\\eager\\polymorphic_function\\concrete_function.py:1323\u001b[0m, in \u001b[0;36mConcreteFunction._call_flat\u001b[1;34m(self, tensor_inputs, captured_inputs)\u001b[0m\n\u001b[0;32m   1319\u001b[0m possible_gradient_type \u001b[38;5;241m=\u001b[39m gradients_util\u001b[38;5;241m.\u001b[39mPossibleTapeGradientTypes(args)\n\u001b[0;32m   1320\u001b[0m \u001b[38;5;28;01mif\u001b[39;00m (possible_gradient_type \u001b[38;5;241m==\u001b[39m gradients_util\u001b[38;5;241m.\u001b[39mPOSSIBLE_GRADIENT_TYPES_NONE\n\u001b[0;32m   1321\u001b[0m     \u001b[38;5;129;01mand\u001b[39;00m executing_eagerly):\n\u001b[0;32m   1322\u001b[0m   \u001b[38;5;66;03m# No tape is watching; skip to running the function.\u001b[39;00m\n\u001b[1;32m-> 1323\u001b[0m   \u001b[38;5;28;01mreturn\u001b[39;00m \u001b[38;5;28mself\u001b[39m\u001b[38;5;241m.\u001b[39m_inference_function\u001b[38;5;241m.\u001b[39mcall_preflattened(args)\n\u001b[0;32m   1324\u001b[0m forward_backward \u001b[38;5;241m=\u001b[39m \u001b[38;5;28mself\u001b[39m\u001b[38;5;241m.\u001b[39m_select_forward_and_backward_functions(\n\u001b[0;32m   1325\u001b[0m     args,\n\u001b[0;32m   1326\u001b[0m     possible_gradient_type,\n\u001b[0;32m   1327\u001b[0m     executing_eagerly)\n\u001b[0;32m   1328\u001b[0m forward_function, args_with_tangents \u001b[38;5;241m=\u001b[39m forward_backward\u001b[38;5;241m.\u001b[39mforward()\n",
      "File \u001b[1;32mC:\\ProgramData\\anaconda3\\Lib\\site-packages\\tensorflow\\python\\eager\\polymorphic_function\\atomic_function.py:216\u001b[0m, in \u001b[0;36mAtomicFunction.call_preflattened\u001b[1;34m(self, args)\u001b[0m\n\u001b[0;32m    214\u001b[0m \u001b[38;5;28;01mdef\u001b[39;00m \u001b[38;5;21mcall_preflattened\u001b[39m(\u001b[38;5;28mself\u001b[39m, args: Sequence[core\u001b[38;5;241m.\u001b[39mTensor]) \u001b[38;5;241m-\u001b[39m\u001b[38;5;241m>\u001b[39m Any:\n\u001b[0;32m    215\u001b[0m \u001b[38;5;250m  \u001b[39m\u001b[38;5;124;03m\"\"\"Calls with flattened tensor inputs and returns the structured output.\"\"\"\u001b[39;00m\n\u001b[1;32m--> 216\u001b[0m   flat_outputs \u001b[38;5;241m=\u001b[39m \u001b[38;5;28mself\u001b[39m\u001b[38;5;241m.\u001b[39mcall_flat(\u001b[38;5;241m*\u001b[39margs)\n\u001b[0;32m    217\u001b[0m   \u001b[38;5;28;01mreturn\u001b[39;00m \u001b[38;5;28mself\u001b[39m\u001b[38;5;241m.\u001b[39mfunction_type\u001b[38;5;241m.\u001b[39mpack_output(flat_outputs)\n",
      "File \u001b[1;32mC:\\ProgramData\\anaconda3\\Lib\\site-packages\\tensorflow\\python\\eager\\polymorphic_function\\atomic_function.py:251\u001b[0m, in \u001b[0;36mAtomicFunction.call_flat\u001b[1;34m(self, *args)\u001b[0m\n\u001b[0;32m    249\u001b[0m \u001b[38;5;28;01mwith\u001b[39;00m record\u001b[38;5;241m.\u001b[39mstop_recording():\n\u001b[0;32m    250\u001b[0m   \u001b[38;5;28;01mif\u001b[39;00m \u001b[38;5;28mself\u001b[39m\u001b[38;5;241m.\u001b[39m_bound_context\u001b[38;5;241m.\u001b[39mexecuting_eagerly():\n\u001b[1;32m--> 251\u001b[0m     outputs \u001b[38;5;241m=\u001b[39m \u001b[38;5;28mself\u001b[39m\u001b[38;5;241m.\u001b[39m_bound_context\u001b[38;5;241m.\u001b[39mcall_function(\n\u001b[0;32m    252\u001b[0m         \u001b[38;5;28mself\u001b[39m\u001b[38;5;241m.\u001b[39mname,\n\u001b[0;32m    253\u001b[0m         \u001b[38;5;28mlist\u001b[39m(args),\n\u001b[0;32m    254\u001b[0m         \u001b[38;5;28mlen\u001b[39m(\u001b[38;5;28mself\u001b[39m\u001b[38;5;241m.\u001b[39mfunction_type\u001b[38;5;241m.\u001b[39mflat_outputs),\n\u001b[0;32m    255\u001b[0m     )\n\u001b[0;32m    256\u001b[0m   \u001b[38;5;28;01melse\u001b[39;00m:\n\u001b[0;32m    257\u001b[0m     outputs \u001b[38;5;241m=\u001b[39m make_call_op_in_graph(\n\u001b[0;32m    258\u001b[0m         \u001b[38;5;28mself\u001b[39m,\n\u001b[0;32m    259\u001b[0m         \u001b[38;5;28mlist\u001b[39m(args),\n\u001b[0;32m    260\u001b[0m         \u001b[38;5;28mself\u001b[39m\u001b[38;5;241m.\u001b[39m_bound_context\u001b[38;5;241m.\u001b[39mfunction_call_options\u001b[38;5;241m.\u001b[39mas_attrs(),\n\u001b[0;32m    261\u001b[0m     )\n",
      "File \u001b[1;32mC:\\ProgramData\\anaconda3\\Lib\\site-packages\\tensorflow\\python\\eager\\context.py:1486\u001b[0m, in \u001b[0;36mContext.call_function\u001b[1;34m(self, name, tensor_inputs, num_outputs)\u001b[0m\n\u001b[0;32m   1484\u001b[0m cancellation_context \u001b[38;5;241m=\u001b[39m cancellation\u001b[38;5;241m.\u001b[39mcontext()\n\u001b[0;32m   1485\u001b[0m \u001b[38;5;28;01mif\u001b[39;00m cancellation_context \u001b[38;5;129;01mis\u001b[39;00m \u001b[38;5;28;01mNone\u001b[39;00m:\n\u001b[1;32m-> 1486\u001b[0m   outputs \u001b[38;5;241m=\u001b[39m execute\u001b[38;5;241m.\u001b[39mexecute(\n\u001b[0;32m   1487\u001b[0m       name\u001b[38;5;241m.\u001b[39mdecode(\u001b[38;5;124m\"\u001b[39m\u001b[38;5;124mutf-8\u001b[39m\u001b[38;5;124m\"\u001b[39m),\n\u001b[0;32m   1488\u001b[0m       num_outputs\u001b[38;5;241m=\u001b[39mnum_outputs,\n\u001b[0;32m   1489\u001b[0m       inputs\u001b[38;5;241m=\u001b[39mtensor_inputs,\n\u001b[0;32m   1490\u001b[0m       attrs\u001b[38;5;241m=\u001b[39mattrs,\n\u001b[0;32m   1491\u001b[0m       ctx\u001b[38;5;241m=\u001b[39m\u001b[38;5;28mself\u001b[39m,\n\u001b[0;32m   1492\u001b[0m   )\n\u001b[0;32m   1493\u001b[0m \u001b[38;5;28;01melse\u001b[39;00m:\n\u001b[0;32m   1494\u001b[0m   outputs \u001b[38;5;241m=\u001b[39m execute\u001b[38;5;241m.\u001b[39mexecute_with_cancellation(\n\u001b[0;32m   1495\u001b[0m       name\u001b[38;5;241m.\u001b[39mdecode(\u001b[38;5;124m\"\u001b[39m\u001b[38;5;124mutf-8\u001b[39m\u001b[38;5;124m\"\u001b[39m),\n\u001b[0;32m   1496\u001b[0m       num_outputs\u001b[38;5;241m=\u001b[39mnum_outputs,\n\u001b[1;32m   (...)\u001b[0m\n\u001b[0;32m   1500\u001b[0m       cancellation_manager\u001b[38;5;241m=\u001b[39mcancellation_context,\n\u001b[0;32m   1501\u001b[0m   )\n",
      "File \u001b[1;32mC:\\ProgramData\\anaconda3\\Lib\\site-packages\\tensorflow\\python\\eager\\execute.py:53\u001b[0m, in \u001b[0;36mquick_execute\u001b[1;34m(op_name, num_outputs, inputs, attrs, ctx, name)\u001b[0m\n\u001b[0;32m     51\u001b[0m \u001b[38;5;28;01mtry\u001b[39;00m:\n\u001b[0;32m     52\u001b[0m   ctx\u001b[38;5;241m.\u001b[39mensure_initialized()\n\u001b[1;32m---> 53\u001b[0m   tensors \u001b[38;5;241m=\u001b[39m pywrap_tfe\u001b[38;5;241m.\u001b[39mTFE_Py_Execute(ctx\u001b[38;5;241m.\u001b[39m_handle, device_name, op_name,\n\u001b[0;32m     54\u001b[0m                                       inputs, attrs, num_outputs)\n\u001b[0;32m     55\u001b[0m \u001b[38;5;28;01mexcept\u001b[39;00m core\u001b[38;5;241m.\u001b[39m_NotOkStatusException \u001b[38;5;28;01mas\u001b[39;00m e:\n\u001b[0;32m     56\u001b[0m   \u001b[38;5;28;01mif\u001b[39;00m name \u001b[38;5;129;01mis\u001b[39;00m \u001b[38;5;129;01mnot\u001b[39;00m \u001b[38;5;28;01mNone\u001b[39;00m:\n",
      "\u001b[1;31mKeyboardInterrupt\u001b[0m: "
     ]
    }
   ],
   "source": [
    "model.fit(X_train, y_train, epochs = 100, batch_size = 32)\n"
   ]
  },
  {
   "cell_type": "code",
   "execution_count": 10,
   "id": "bbbfcc0e-8d6e-407d-b264-fa373cf05c5d",
   "metadata": {},
   "outputs": [],
   "source": [
    "model.save('stocksMODEL.keras')"
   ]
  },
  {
   "cell_type": "code",
   "execution_count": 11,
   "id": "b86f90c1-528a-456b-90cb-ae64a264fed9",
   "metadata": {},
   "outputs": [
    {
     "name": "stdout",
     "output_type": "stream",
     "text": [
      "8/8 [==============================] - 2s 43ms/step\n"
     ]
    }
   ],
   "source": [
    "pre = model.predict(X_test)\n",
    "pre = sc.inverse_transform(pre)"
   ]
  },
  {
   "cell_type": "code",
   "execution_count": 12,
   "id": "a40a270b-4f16-4c12-ae45-7806f2b7448f",
   "metadata": {},
   "outputs": [],
   "source": [
    "y_test = y_test.reshape(-1, 1)\n",
    "y_test = sc.inverse_transform(y_test)"
   ]
  },
  {
   "cell_type": "code",
   "execution_count": 1,
   "id": "0e5fe966-6497-4d30-9f22-861b249122df",
   "metadata": {},
   "outputs": [
    {
     "ename": "NameError",
     "evalue": "name 'plt' is not defined",
     "output_type": "error",
     "traceback": [
      "\u001b[1;31m---------------------------------------------------------------------------\u001b[0m",
      "\u001b[1;31mNameError\u001b[0m                                 Traceback (most recent call last)",
      "Cell \u001b[1;32mIn[1], line 1\u001b[0m\n\u001b[1;32m----> 1\u001b[0m plt\u001b[38;5;241m.\u001b[39mplot(y_test, color \u001b[38;5;241m=\u001b[39m \u001b[38;5;124m'\u001b[39m\u001b[38;5;124mred\u001b[39m\u001b[38;5;124m'\u001b[39m, label \u001b[38;5;241m=\u001b[39m \u001b[38;5;124m'\u001b[39m\u001b[38;5;124mreal price\u001b[39m\u001b[38;5;124m'\u001b[39m)\n\u001b[0;32m      2\u001b[0m plt\u001b[38;5;241m.\u001b[39mplot(pre, color \u001b[38;5;241m=\u001b[39m \u001b[38;5;124m'\u001b[39m\u001b[38;5;124mblue\u001b[39m\u001b[38;5;124m'\u001b[39m, label \u001b[38;5;241m=\u001b[39m \u001b[38;5;124m'\u001b[39m\u001b[38;5;124mpredict\u001b[39m\u001b[38;5;124m'\u001b[39m)\n\u001b[0;32m      3\u001b[0m plt\u001b[38;5;241m.\u001b[39mxlabel(\u001b[38;5;124m'\u001b[39m\u001b[38;5;124mtime\u001b[39m\u001b[38;5;124m'\u001b[39m)\n",
      "\u001b[1;31mNameError\u001b[0m: name 'plt' is not defined"
     ]
    }
   ],
   "source": [
    "plt.plot(y_test, color = 'red', label = 'real price')\n",
    "plt.plot(pre, color = 'blue', label = 'predict')\n",
    "plt.xlabel('time')\n",
    "plt.ylabel('price')\n",
    "plt.legend()\n",
    "plt.show()"
   ]
  },
  {
   "cell_type": "code",
   "execution_count": null,
   "id": "2b118e98-1378-45d3-b92c-e6248deeef47",
   "metadata": {},
   "outputs": [],
   "source": []
  }
 ],
 "metadata": {
  "kernelspec": {
   "display_name": "Python 3 (ipykernel)",
   "language": "python",
   "name": "python3"
  },
  "language_info": {
   "codemirror_mode": {
    "name": "ipython",
    "version": 3
   },
   "file_extension": ".py",
   "mimetype": "text/x-python",
   "name": "python",
   "nbconvert_exporter": "python",
   "pygments_lexer": "ipython3",
   "version": "3.11.7"
  }
 },
 "nbformat": 4,
 "nbformat_minor": 5
}
